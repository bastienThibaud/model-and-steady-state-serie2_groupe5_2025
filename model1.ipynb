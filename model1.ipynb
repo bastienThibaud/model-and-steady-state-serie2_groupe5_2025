{
 "cells": [
  {
   "cell_type": "markdown",
   "id": "3d9e08cd-e23c-49e4-aa3c-dd3222aa5d9b",
   "metadata": {},
   "source": [
    "Let's specify the different specificities of our modell. We have to define the dimensions, and the specificities of each material:"
   ]
  },
  {
   "cell_type": "code",
   "execution_count": 2,
   "id": "48c3cdf0-fd4e-49f4-9914-c6367cf11723",
   "metadata": {},
   "outputs": [
    {
     "name": "stdout",
     "output_type": "stream",
     "text": [
      "Collecting numpy\n",
      "  Downloading numpy-2.2.5-cp310-cp310-manylinux_2_17_x86_64.manylinux2014_x86_64.whl.metadata (62 kB)\n",
      "Collecting pandas\n",
      "  Downloading pandas-2.2.3-cp310-cp310-manylinux_2_17_x86_64.manylinux2014_x86_64.whl.metadata (89 kB)\n",
      "Collecting matplotlib\n",
      "  Downloading matplotlib-3.10.1-cp310-cp310-manylinux_2_17_x86_64.manylinux2014_x86_64.whl.metadata (11 kB)\n",
      "Requirement already satisfied: python-dateutil>=2.8.2 in /srv/conda/envs/notebook/lib/python3.10/site-packages (from pandas) (2.9.0.post0)\n",
      "Requirement already satisfied: pytz>=2020.1 in /srv/conda/envs/notebook/lib/python3.10/site-packages (from pandas) (2025.1)\n",
      "Collecting tzdata>=2022.7 (from pandas)\n",
      "  Downloading tzdata-2025.2-py2.py3-none-any.whl.metadata (1.4 kB)\n",
      "Collecting contourpy>=1.0.1 (from matplotlib)\n",
      "  Downloading contourpy-1.3.2-cp310-cp310-manylinux_2_17_x86_64.manylinux2014_x86_64.whl.metadata (5.5 kB)\n",
      "Collecting cycler>=0.10 (from matplotlib)\n",
      "  Downloading cycler-0.12.1-py3-none-any.whl.metadata (3.8 kB)\n",
      "Collecting fonttools>=4.22.0 (from matplotlib)\n",
      "  Downloading fonttools-4.57.0-cp310-cp310-manylinux_2_17_x86_64.manylinux2014_x86_64.whl.metadata (102 kB)\n",
      "Collecting kiwisolver>=1.3.1 (from matplotlib)\n",
      "  Downloading kiwisolver-1.4.8-cp310-cp310-manylinux_2_12_x86_64.manylinux2010_x86_64.whl.metadata (6.2 kB)\n",
      "Requirement already satisfied: packaging>=20.0 in /srv/conda/envs/notebook/lib/python3.10/site-packages (from matplotlib) (24.2)\n",
      "Collecting pillow>=8 (from matplotlib)\n",
      "  Downloading pillow-11.2.1-cp310-cp310-manylinux_2_28_x86_64.whl.metadata (8.9 kB)\n",
      "Collecting pyparsing>=2.3.1 (from matplotlib)\n",
      "  Downloading pyparsing-3.2.3-py3-none-any.whl.metadata (5.0 kB)\n",
      "Requirement already satisfied: six>=1.5 in /srv/conda/envs/notebook/lib/python3.10/site-packages (from python-dateutil>=2.8.2->pandas) (1.17.0)\n",
      "Downloading numpy-2.2.5-cp310-cp310-manylinux_2_17_x86_64.manylinux2014_x86_64.whl (16.4 MB)\n",
      "\u001b[2K   \u001b[90m━━━━━━━━━━━━━━━━━━━━━━━━━━━━━━━━━━━━━━━━\u001b[0m \u001b[32m16.4/16.4 MB\u001b[0m \u001b[31m69.9 MB/s\u001b[0m eta \u001b[36m0:00:00\u001b[0m00:01\u001b[0m\n",
      "\u001b[?25hDownloading pandas-2.2.3-cp310-cp310-manylinux_2_17_x86_64.manylinux2014_x86_64.whl (13.1 MB)\n",
      "\u001b[2K   \u001b[90m━━━━━━━━━━━━━━━━━━━━━━━━━━━━━━━━━━━━━━━━\u001b[0m \u001b[32m13.1/13.1 MB\u001b[0m \u001b[31m69.9 MB/s\u001b[0m eta \u001b[36m0:00:00\u001b[0m\n",
      "\u001b[?25hDownloading matplotlib-3.10.1-cp310-cp310-manylinux_2_17_x86_64.manylinux2014_x86_64.whl (8.6 MB)\n",
      "\u001b[2K   \u001b[90m━━━━━━━━━━━━━━━━━━━━━━━━━━━━━━━━━━━━━━━━\u001b[0m \u001b[32m8.6/8.6 MB\u001b[0m \u001b[31m114.7 MB/s\u001b[0m eta \u001b[36m0:00:00\u001b[0m\n",
      "\u001b[?25hDownloading contourpy-1.3.2-cp310-cp310-manylinux_2_17_x86_64.manylinux2014_x86_64.whl (325 kB)\n",
      "Downloading cycler-0.12.1-py3-none-any.whl (8.3 kB)\n",
      "Downloading fonttools-4.57.0-cp310-cp310-manylinux_2_17_x86_64.manylinux2014_x86_64.whl (4.6 MB)\n",
      "\u001b[2K   \u001b[90m━━━━━━━━━━━━━━━━━━━━━━━━━━━━━━━━━━━━━━━━\u001b[0m \u001b[32m4.6/4.6 MB\u001b[0m \u001b[31m108.0 MB/s\u001b[0m eta \u001b[36m0:00:00\u001b[0m\n",
      "\u001b[?25hDownloading kiwisolver-1.4.8-cp310-cp310-manylinux_2_12_x86_64.manylinux2010_x86_64.whl (1.6 MB)\n",
      "\u001b[2K   \u001b[90m━━━━━━━━━━━━━━━━━━━━━━━━━━━━━━━━━━━━━━━━\u001b[0m \u001b[32m1.6/1.6 MB\u001b[0m \u001b[31m71.2 MB/s\u001b[0m eta \u001b[36m0:00:00\u001b[0m\n",
      "\u001b[?25hDownloading pillow-11.2.1-cp310-cp310-manylinux_2_28_x86_64.whl (4.6 MB)\n",
      "\u001b[2K   \u001b[90m━━━━━━━━━━━━━━━━━━━━━━━━━━━━━━━━━━━━━━━━\u001b[0m \u001b[32m4.6/4.6 MB\u001b[0m \u001b[31m107.3 MB/s\u001b[0m eta \u001b[36m0:00:00\u001b[0m\n",
      "\u001b[?25hDownloading pyparsing-3.2.3-py3-none-any.whl (111 kB)\n",
      "Downloading tzdata-2025.2-py2.py3-none-any.whl (347 kB)\n",
      "Installing collected packages: tzdata, pyparsing, pillow, numpy, kiwisolver, fonttools, cycler, pandas, contourpy, matplotlib\n",
      "Successfully installed contourpy-1.3.2 cycler-0.12.1 fonttools-4.57.0 kiwisolver-1.4.8 matplotlib-3.10.1 numpy-2.2.5 pandas-2.2.3 pillow-11.2.1 pyparsing-3.2.3 tzdata-2025.2\n"
     ]
    }
   ],
   "source": [
    "!pip install numpy pandas matplotlib"
   ]
  },
  {
   "cell_type": "code",
   "execution_count": 3,
   "id": "1517a4eb-4412-425b-a152-cf2335b122f2",
   "metadata": {},
   "outputs": [],
   "source": [
    "import numpy as np\n",
    "import pandas as pd\n",
    "import matplotlib.pyplot as plt\n",
    "\n",
    "l = 3               # m length of the room\n",
    "L=5                 #Largeur of the room\n",
    "H=2.5               #Height of the room\n",
    "Hw=1.5              #Hauteur Window\n",
    "Lw=0.9              #Longueur Window\n",
    "Sp=3                #Surface porte\n",
    "Sw = 2*Hw*Lw        # m² surface area of the windows\n",
    "Sc = L*H+2*l*H-Sp+L*l   # m² surface area of plasterboard\n",
    "Sout = L*H-Sw       # m² surface area of concrete & insulation of the walls\n",
    "To=5\n",
    "Ti=20\n",
    "Tiop=22\n",
    "Kp=100\n",
    "\n",
    "air = {'Density': 1.2,                      # kg/m³\n",
    "       'Specific heat': 1000}               # J/(kg·K)\n",
    "pd.DataFrame(air, index=['Air'])\n",
    "\n",
    "concrete = {'Conductivity': 1.400,          # W/(m·K)\n",
    "            'Density': 2300.0,              # kg/m³\n",
    "            'Specific heat': 880,           # J/(kg⋅K)\n",
    "            'Width': 0.2,                   # m\n",
    "            'Surface': L*H-Sw}            # m²\n",
    "\n",
    "insulation = {'Conductivity': 0.027,        # W/(m·K)\n",
    "              'Density': 55.0,              # kg/m³\n",
    "              'Specific heat': 1210,        # J/(kg⋅K)\n",
    "              'Width': 0.08,                # m\n",
    "              'Surface': L*H-Sw}          # m²\n",
    "\n",
    "plasterboard = {'Conductivity': 0.25,        # W/(m·K)\n",
    "              'Density': 9.3,              # kg/m³\n",
    "              'Specific heat': 500,        # J/(kg⋅K)\n",
    "              'Width': 0.05,                # m\n",
    "              'Surface': L*H+2*l*H-Sp+L*l}          # m²\n",
    "\n",
    "glass = {'Conductivity': 1.4,               # W/(m·K)\n",
    "         'Density': 2500,                   # kg/m³\n",
    "         'Specific heat': 1210,             # J/(kg⋅K)\n",
    "         'Width': 0.04,                     # m\n",
    "         'Surface': Hw*Lw}                   # m²\n",
    "\n",
    "wall = pd.DataFrame.from_dict({'Layer_out': concrete,\n",
    "                               'Layer_in': insulation, 'Plasterboard':plasterboard,\n",
    "                               'Glass': glass},\n",
    "                              orient='index')\n",
    "\n",
    "# radiative properties\n",
    "ε_wLW = 0.85    # long wave emmisivity: wall surface (concrete)\n",
    "ε_gLW = 0.90    # long wave emmisivity: glass pyrex\n",
    "ε_pLW = 0.90    # long wave emmisivity: plasterboard\n",
    "α_wSW = 0.25    # short wave absortivity: white smooth surface\n",
    "α_gSW = 0.38    # short wave absortivity: reflective blue glass\n",
    "τ_gSW = 0.30    # short wave transmitance: reflective blue glass\n",
    "\n",
    "σ = 5.67e-8     # W/(m²⋅K⁴) Stefan-Bolzmann constant\n",
    "\n",
    "h = pd.DataFrame([{'in': 8., 'out': 25}], index=['h'])  # W/(m²⋅K)"
   ]
  },
  {
   "cell_type": "markdown",
   "id": "79eaaa7f-2f67-416d-b37f-c07447ab6291",
   "metadata": {},
   "source": [
    "Thanks to the thermal circuit, we can define the matrix A as following:\n"
   ]
  },
  {
   "cell_type": "code",
   "execution_count": 4,
   "id": "e8c32f90-a91f-44cf-9cec-5218a92dc03d",
   "metadata": {},
   "outputs": [],
   "source": [
    "A= np.array([\n",
    "    [ 1,  0,  0,  0,  0,  0,  0,  0,  0,  0],\n",
    "    [-1,  1,  0,  0,  0,  0,  0,  0,  0,  0],\n",
    "    [ 0, -1,  1,  0,  0,  0,  0,  0,  0,  0],\n",
    "    [ 0,  0, -1,  1,  0,  0,  0,  0,  0,  0],\n",
    "    [ 0,  0,  0, -1,  1,  0,  0,  0,  0,  0],\n",
    "    [ 0,  0,  0,  0, -1,  0,  1,  0,  0,  0],\n",
    "    [ 0,  0,  0,  0,  0,  0,  1, -1,  0,  0],\n",
    "    [ 0,  0,  0,  0,  0,  0,  0,  1,  0,  0],\n",
    "    [ 0,  0,  0,  0,  0,  1, -1,  0,  0,  0],\n",
    "    [ 0,  0,  0,  0,  0,  0,  1,  0,  0, -1],\n",
    "    [ 0,  0,  0,  0,  0,  1,  0,  0, 0,  -1],\n",
    "    [ 0,  0,  0,  0, -1,  1,  0,  0, 0,   0],\n",
    "    [ 0,  0,  0,  0,  0,  0,  0,  0,  1, -1],\n",
    "    [ 0,  0,  0,  0,  0,  0,  0,  0,  0,  1],\n",
    "    [ 0,  0,  0,  0,  0,  1,  0,  0,  0,  0],\n",
    "    [ 0,  0,  0,  0,  0,  1,  0,  0,  0,  0]\n",
    "])"
   ]
  },
  {
   "cell_type": "markdown",
   "id": "e9e83dd0-2800-4ec4-92c1-dd31eee1a1c2",
   "metadata": {},
   "source": [
    "Then we can define the G matrix that corresponds to the conductances:"
   ]
  },
  {
   "cell_type": "code",
   "execution_count": 5,
   "id": "7e06aaff-abe2-4d6d-a22a-9f53d6b8ea92",
   "metadata": {},
   "outputs": [],
   "source": [
    "# conduction\n",
    "G_cd = wall['Conductivity'] / wall['Width'] * wall['Surface']\n",
    "pd.DataFrame(G_cd, columns=['Conductance'])\n",
    "\n",
    "# convection\n",
    "Gw_out = h * wall['Surface'].iloc[0]     # wall\n",
    "Gw_in = h * wall['Surface'].iloc[2]     # wall\n",
    "Gg = h * wall['Surface'].iloc[3]     # glass\n",
    "\n",
    "# view factor glass-wall\n",
    "Fgw = 1\n",
    "\n",
    "#Factor wall_out-wall_in\n",
    "\n",
    "Fwo_wi=1\n",
    "\n",
    "Tm = 20 + 273   # K, mean temp for radiative exchange\n",
    "\n",
    "#Long Wave radiation between glass and plasterboard wall\n",
    "GLW1_2 = 4 * σ * Tm**3 * ε_pLW / (1 - ε_pLW) * wall['Surface']['Plasterboard']\n",
    "GLW12_2 = 4 * σ * Tm**3 * Fgw * wall['Surface']['Glass']\n",
    "GLW2_2 = 4 * σ * Tm**3 * ε_gLW / (1 - ε_gLW) * wall['Surface']['Glass']\n",
    "GLW_2 = 1 / (1 / GLW1_2 + 1 / GLW12_2 + 1 / GLW2_2)\n",
    "\n",
    "#Long wave radiation between insulated wall and plasterboard wall\n",
    "GLW1_1 = 4 * σ * Tm**3 * ε_pLW / (1 - ε_pLW) * wall['Surface']['Plasterboard']\n",
    "GLW12_1 = 4 * σ * Tm**3 * Fwo_wi * wall['Surface']['Layer_in']\n",
    "GLW2_1 = 4 * σ * Tm**3 * ε_pLW / (1 - ε_pLW) * wall['Surface']['Layer_in']\n",
    "GLW_1 = 1 / (1 / GLW1_1 + 1 / GLW12_1 + 1 / GLW2_1)\n",
    "\n",
    "G0=Gw_out['out'].iloc[0]            #Convection between outside and concrete wall\n",
    "G1=G2=G_cd['Layer_out']/2    #conductions in the concrete wall\n",
    "G3=G4=G_cd['Layer_in']/2  #conduction in the insulator\n",
    "G5=GLW_1                    #Long Wave radiation between the wall (insulation) and the plasterboard wall\n",
    "G9=GLW_2                    #Long Wave radiation between the plasterboard wall and the glass\n",
    "G6=G7=G_cd['Plasterboard']/2 #Conduction in the plasterboard\n",
    "G8= Gw_in['in'].iloc[0]             #Convection from plasterboard\n",
    "G10=Gg['in'].iloc[0]               #Convection from glass\n",
    "G11=Gw_out['in'].iloc[0]           #Convection from the insulator\n",
    "G12=G_cd['Glass']/2         #Conduction in glass\n",
    "Gglass_conv=Gg['out'].iloc[0]       #Convection on the outside Window\n",
    "G13=G12*Gglass_conv/(G12+Gglass_conv) #conduction and convection in glass\n",
    "Va = l*L*H                  # m³, volume of air\n",
    "ACH = 1                     # 1/h, air changes per hour\n",
    "Va_dot = ACH / 3600 * Va    # m³/s, air infiltration\n",
    "\n",
    "G14= air['Density'] * air['Specific heat'] * Va_dot # Advection\n",
    "\n",
    "Glist=[G0,G1,G2,G3,G4,G5,G6,G7,G8,G9,G10,G11,G12,G13,G14,Kp]\n",
    "Garray=np.array(Glist)\n",
    "G=np.diag(Garray)"
   ]
  },
  {
   "cell_type": "markdown",
   "id": "fd05d676-74c7-4a6b-bdff-edffb8dc76cb",
   "metadata": {},
   "source": [
    "We also define the C matrix that represents the thermal capacities, the f matrix, whix corresponds to the fluxes and b that defines the initial temperatures"
   ]
  },
  {
   "cell_type": "code",
   "execution_count": 6,
   "id": "c2a25f02-c17c-4a57-a760-aa7240091eea",
   "metadata": {},
   "outputs": [],
   "source": [
    "# Temperature source vector\n",
    "b = np.array([To, 0, 0, 0, 0, 0, 0, Ti, 0, 0, 0, 0, 0, To, Ti, Tiop])\n",
    "f=np.zeros(10)\n",
    "Phi_glass=300\n",
    "Phi_concrete=1000\n",
    "Phi_humans=200\n",
    "f[[0]]=Phi_concrete\n",
    "f[[5]]=Phi_humans\n",
    "f[[9]]=Phi_glass"
   ]
  },
  {
   "cell_type": "markdown",
   "id": "00e1f293-e953-4b69-9fc9-5ffc814f9d67",
   "metadata": {},
   "source": [
    "We now have all the information to determine the steady state temperatures."
   ]
  },
  {
   "cell_type": "code",
   "execution_count": 7,
   "id": "79ae0cf9-8f6a-44f6-8df9-d602c77d88f8",
   "metadata": {},
   "outputs": [
    {
     "name": "stdout",
     "output_type": "stream",
     "text": [
      "[ 9.12467004  9.43207992  9.73948981 16.11539857 22.49130732 22.69431634\n",
      " 22.38190046 21.19095023 24.33782686 24.33782686]\n"
     ]
    }
   ],
   "source": [
    "θss = np.linalg.inv(A.T @ G @ A) @ (A.T @ G @ b + f)\n",
    "print(θss)"
   ]
  }
 ],
 "metadata": {
  "kernelspec": {
   "display_name": "Python 3 (ipykernel)",
   "language": "python",
   "name": "python3"
  },
  "language_info": {
   "codemirror_mode": {
    "name": "ipython",
    "version": 3
   },
   "file_extension": ".py",
   "mimetype": "text/x-python",
   "name": "python",
   "nbconvert_exporter": "python",
   "pygments_lexer": "ipython3",
   "version": "3.10.16"
  }
 },
 "nbformat": 4,
 "nbformat_minor": 5
}
