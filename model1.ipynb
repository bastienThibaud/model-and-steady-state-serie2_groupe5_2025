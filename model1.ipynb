{
 "cells": [
  {
   "cell_type": "markdown",
   "id": "3d9e08cd-e23c-49e4-aa3c-dd3222aa5d9b",
   "metadata": {},
   "source": [
    "Let's specify the different specificities of our modell. We have to define the dimensions, and the specificities of each material:"
   ]
  },
  {
   "cell_type": "code",
   "execution_count": 688,
   "id": "48c3cdf0-fd4e-49f4-9914-c6367cf11723",
   "metadata": {},
   "outputs": [
    {
     "name": "stdout",
     "output_type": "stream",
     "text": [
      "Requirement already satisfied: numpy in c:\\users\\pc\\appdata\\local\\packages\\pythonsoftwarefoundation.python.3.11_qbz5n2kfra8p0\\localcache\\local-packages\\python311\\site-packages (2.1.1)\n",
      "Requirement already satisfied: pandas in c:\\users\\pc\\appdata\\local\\packages\\pythonsoftwarefoundation.python.3.11_qbz5n2kfra8p0\\localcache\\local-packages\\python311\\site-packages (2.2.3)\n",
      "Requirement already satisfied: matplotlib in c:\\users\\pc\\appdata\\local\\packages\\pythonsoftwarefoundation.python.3.11_qbz5n2kfra8p0\\localcache\\local-packages\\python311\\site-packages (3.9.2)\n",
      "Requirement already satisfied: python-dateutil>=2.8.2 in c:\\users\\pc\\appdata\\local\\packages\\pythonsoftwarefoundation.python.3.11_qbz5n2kfra8p0\\localcache\\local-packages\\python311\\site-packages (from pandas) (2.9.0.post0)\n",
      "Requirement already satisfied: pytz>=2020.1 in c:\\users\\pc\\appdata\\local\\packages\\pythonsoftwarefoundation.python.3.11_qbz5n2kfra8p0\\localcache\\local-packages\\python311\\site-packages (from pandas) (2025.2)\n",
      "Requirement already satisfied: tzdata>=2022.7 in c:\\users\\pc\\appdata\\local\\packages\\pythonsoftwarefoundation.python.3.11_qbz5n2kfra8p0\\localcache\\local-packages\\python311\\site-packages (from pandas) (2025.2)\n",
      "Requirement already satisfied: contourpy>=1.0.1 in c:\\users\\pc\\appdata\\local\\packages\\pythonsoftwarefoundation.python.3.11_qbz5n2kfra8p0\\localcache\\local-packages\\python311\\site-packages (from matplotlib) (1.3.0)\n",
      "Requirement already satisfied: cycler>=0.10 in c:\\users\\pc\\appdata\\local\\packages\\pythonsoftwarefoundation.python.3.11_qbz5n2kfra8p0\\localcache\\local-packages\\python311\\site-packages (from matplotlib) (0.12.1)\n",
      "Requirement already satisfied: fonttools>=4.22.0 in c:\\users\\pc\\appdata\\local\\packages\\pythonsoftwarefoundation.python.3.11_qbz5n2kfra8p0\\localcache\\local-packages\\python311\\site-packages (from matplotlib) (4.54.1)\n",
      "Requirement already satisfied: kiwisolver>=1.3.1 in c:\\users\\pc\\appdata\\local\\packages\\pythonsoftwarefoundation.python.3.11_qbz5n2kfra8p0\\localcache\\local-packages\\python311\\site-packages (from matplotlib) (1.4.7)\n",
      "Requirement already satisfied: packaging>=20.0 in c:\\users\\pc\\appdata\\local\\packages\\pythonsoftwarefoundation.python.3.11_qbz5n2kfra8p0\\localcache\\local-packages\\python311\\site-packages (from matplotlib) (24.1)\n",
      "Requirement already satisfied: pillow>=8 in c:\\users\\pc\\appdata\\local\\packages\\pythonsoftwarefoundation.python.3.11_qbz5n2kfra8p0\\localcache\\local-packages\\python311\\site-packages (from matplotlib) (10.4.0)\n",
      "Requirement already satisfied: pyparsing>=2.3.1 in c:\\users\\pc\\appdata\\local\\packages\\pythonsoftwarefoundation.python.3.11_qbz5n2kfra8p0\\localcache\\local-packages\\python311\\site-packages (from matplotlib) (3.1.4)\n",
      "Requirement already satisfied: six>=1.5 in c:\\users\\pc\\appdata\\local\\packages\\pythonsoftwarefoundation.python.3.11_qbz5n2kfra8p0\\localcache\\local-packages\\python311\\site-packages (from python-dateutil>=2.8.2->pandas) (1.16.0)\n"
     ]
    },
    {
     "name": "stderr",
     "output_type": "stream",
     "text": [
      "\n",
      "[notice] A new release of pip is available: 24.0 -> 25.1.1\n",
      "[notice] To update, run: C:\\Users\\PC\\AppData\\Local\\Microsoft\\WindowsApps\\PythonSoftwareFoundation.Python.3.11_qbz5n2kfra8p0\\python.exe -m pip install --upgrade pip\n"
     ]
    }
   ],
   "source": [
    "!pip install numpy pandas matplotlib\n",
    "import dm4bem"
   ]
  },
  {
   "cell_type": "code",
   "execution_count": 689,
   "id": "9e37e9db",
   "metadata": {},
   "outputs": [],
   "source": [
    "controller = False\n",
    "neglect_air_glass_capacity = False\n",
    "imposed_time_step = False\n",
    "Δt = 498    # s, imposed time step"
   ]
  },
  {
   "cell_type": "code",
   "execution_count": 690,
   "id": "1517a4eb-4412-425b-a152-cf2335b122f2",
   "metadata": {},
   "outputs": [],
   "source": [
    "import numpy as np\n",
    "import pandas as pd\n",
    "import matplotlib.pyplot as plt\n",
    "\n",
    "l =10               # m length of the room\n",
    "L=5                 #Largeur of the room\n",
    "H=2.5               #Height of the room\n",
    "Hw=1.5              #Hauteur Window\n",
    "Lw=0.9              #Longueur Window\n",
    "Sp=3                #Surface porte\n",
    "Sw = 2*Hw*Lw        # m² surface area of the windows\n",
    "Sc = L*H+2*l*H-Sp+L*l   # m² surface area of plasterboard\n",
    "Sout = L*H-Sw       # m² surface area of concrete & insulation of the walls\n",
    "To=5\n",
    "Ti=18\n",
    "Tiop=22\n",
    "Kp=1\n",
    "q=15\n",
    "θ=9\n",
    "\n",
    "air = {'Density': 1.2,                      # kg/m³\n",
    "       'Specific heat': 1000}               # J/(kg·K)\n",
    "pd.DataFrame(air, index=['Air'])\n",
    "\n",
    "concrete = {'Conductivity': 1.400,          # W/(m·K)\n",
    "            'Density': 2300.0,              # kg/m³\n",
    "            'Specific heat': 880,           # J/(kg⋅K)\n",
    "            'Width': 0.2,                   # m\n",
    "            'Surface': L*H-Sw}            # m²\n",
    "\n",
    "insulation = {'Conductivity': 0.027,        # W/(m·K)\n",
    "              'Density': 55.0,              # kg/m³\n",
    "              'Specific heat': 1210,        # J/(kg⋅K)\n",
    "              'Width': 0.01,                # m\n",
    "              'Surface': L*H-Sw}          # m²\n",
    "\n",
    "plasterboard = {'Conductivity': 0.25,        # W/(m·K)\n",
    "              'Density': 9.3,              # kg/m³\n",
    "              'Specific heat': 500,        # J/(kg⋅K)\n",
    "              'Width': 0.05,                # m\n",
    "              'Surface': L*H+2*l*H-Sp+L*l}          # m²\n",
    "\n",
    "glass = {'Conductivity': 1.4,               # W/(m·K)\n",
    "         'Density': 2500,                   # kg/m³\n",
    "         'Specific heat': 1210,             # J/(kg⋅K)\n",
    "         'Width': 0.04,                     # m\n",
    "         'Surface': Hw*Lw}                   # m²\n",
    "\n",
    "wall = pd.DataFrame.from_dict({'Layer_out': concrete,\n",
    "                               'Layer_in': insulation, 'Plasterboard':plasterboard,\n",
    "                               'Glass': glass},\n",
    "                              orient='index')\n",
    "\n",
    "# radiative properties\n",
    "ε_wLW = 0.85    # long wave emmisivity: wall surface (concrete)\n",
    "ε_gLW = 0.90    # long wave emmisivity: glass pyrex\n",
    "ε_pLW = 0.90    # long wave emmisivity: plasterboard\n",
    "α_wSW = 0.25    # short wave absortivity: white smooth surface\n",
    "α_gSW = 0.38    # short wave absortivity: reflective blue glass\n",
    "τ_gSW = 0.30    # short wave transmitance: reflective blue glass\n",
    "\n",
    "σ = 5.67e-8     # W/(m²⋅K⁴) Stefan-Bolzmann constant\n",
    "\n",
    "h = pd.DataFrame([{'in': 8., 'out': 25}], index=['h'])  # W/(m²⋅K)"
   ]
  },
  {
   "cell_type": "code",
   "execution_count": 691,
   "id": "134d1896",
   "metadata": {},
   "outputs": [],
   "source": [
    "# temperature nodes\n",
    "θ = ['θ0', 'θ1', 'θ2', 'θ3', 'θ4', 'θ5', 'θ6', 'θ7','θ8','θ9']\n",
    "\n",
    "# flow-rate branches\n",
    "q = ['q0', 'q1', 'q2', 'q3', 'q4', 'q5', 'q6', 'q7', 'q8', 'q9', 'q10', 'q11','q12','q13','q14','q15']"
   ]
  },
  {
   "cell_type": "markdown",
   "id": "79eaaa7f-2f67-416d-b37f-c07447ab6291",
   "metadata": {},
   "source": [
    "Thanks to the thermal circuit, we can define the matrix A as following:\n"
   ]
  },
  {
   "cell_type": "code",
   "execution_count": 692,
   "id": "e8c32f90-a91f-44cf-9cec-5218a92dc03d",
   "metadata": {},
   "outputs": [
    {
     "data": {
      "text/html": [
       "<div>\n",
       "<style scoped>\n",
       "    .dataframe tbody tr th:only-of-type {\n",
       "        vertical-align: middle;\n",
       "    }\n",
       "\n",
       "    .dataframe tbody tr th {\n",
       "        vertical-align: top;\n",
       "    }\n",
       "\n",
       "    .dataframe thead th {\n",
       "        text-align: right;\n",
       "    }\n",
       "</style>\n",
       "<table border=\"1\" class=\"dataframe\">\n",
       "  <thead>\n",
       "    <tr style=\"text-align: right;\">\n",
       "      <th></th>\n",
       "      <th>θ0</th>\n",
       "      <th>θ1</th>\n",
       "      <th>θ2</th>\n",
       "      <th>θ3</th>\n",
       "      <th>θ4</th>\n",
       "      <th>θ5</th>\n",
       "      <th>θ6</th>\n",
       "      <th>θ7</th>\n",
       "      <th>θ8</th>\n",
       "      <th>θ9</th>\n",
       "    </tr>\n",
       "  </thead>\n",
       "  <tbody>\n",
       "    <tr>\n",
       "      <th>q0</th>\n",
       "      <td>1</td>\n",
       "      <td>0</td>\n",
       "      <td>0</td>\n",
       "      <td>0</td>\n",
       "      <td>0</td>\n",
       "      <td>0</td>\n",
       "      <td>0</td>\n",
       "      <td>0</td>\n",
       "      <td>0</td>\n",
       "      <td>0</td>\n",
       "    </tr>\n",
       "    <tr>\n",
       "      <th>q1</th>\n",
       "      <td>-1</td>\n",
       "      <td>1</td>\n",
       "      <td>0</td>\n",
       "      <td>0</td>\n",
       "      <td>0</td>\n",
       "      <td>0</td>\n",
       "      <td>0</td>\n",
       "      <td>0</td>\n",
       "      <td>0</td>\n",
       "      <td>0</td>\n",
       "    </tr>\n",
       "    <tr>\n",
       "      <th>q2</th>\n",
       "      <td>0</td>\n",
       "      <td>-1</td>\n",
       "      <td>1</td>\n",
       "      <td>0</td>\n",
       "      <td>0</td>\n",
       "      <td>0</td>\n",
       "      <td>0</td>\n",
       "      <td>0</td>\n",
       "      <td>0</td>\n",
       "      <td>0</td>\n",
       "    </tr>\n",
       "    <tr>\n",
       "      <th>q3</th>\n",
       "      <td>0</td>\n",
       "      <td>0</td>\n",
       "      <td>-1</td>\n",
       "      <td>1</td>\n",
       "      <td>0</td>\n",
       "      <td>0</td>\n",
       "      <td>0</td>\n",
       "      <td>0</td>\n",
       "      <td>0</td>\n",
       "      <td>0</td>\n",
       "    </tr>\n",
       "    <tr>\n",
       "      <th>q4</th>\n",
       "      <td>0</td>\n",
       "      <td>0</td>\n",
       "      <td>0</td>\n",
       "      <td>-1</td>\n",
       "      <td>1</td>\n",
       "      <td>0</td>\n",
       "      <td>0</td>\n",
       "      <td>0</td>\n",
       "      <td>0</td>\n",
       "      <td>0</td>\n",
       "    </tr>\n",
       "    <tr>\n",
       "      <th>q5</th>\n",
       "      <td>0</td>\n",
       "      <td>0</td>\n",
       "      <td>0</td>\n",
       "      <td>0</td>\n",
       "      <td>-1</td>\n",
       "      <td>0</td>\n",
       "      <td>1</td>\n",
       "      <td>0</td>\n",
       "      <td>0</td>\n",
       "      <td>0</td>\n",
       "    </tr>\n",
       "    <tr>\n",
       "      <th>q6</th>\n",
       "      <td>0</td>\n",
       "      <td>0</td>\n",
       "      <td>0</td>\n",
       "      <td>0</td>\n",
       "      <td>0</td>\n",
       "      <td>0</td>\n",
       "      <td>1</td>\n",
       "      <td>-1</td>\n",
       "      <td>0</td>\n",
       "      <td>0</td>\n",
       "    </tr>\n",
       "    <tr>\n",
       "      <th>q7</th>\n",
       "      <td>0</td>\n",
       "      <td>0</td>\n",
       "      <td>0</td>\n",
       "      <td>0</td>\n",
       "      <td>0</td>\n",
       "      <td>0</td>\n",
       "      <td>0</td>\n",
       "      <td>1</td>\n",
       "      <td>0</td>\n",
       "      <td>0</td>\n",
       "    </tr>\n",
       "    <tr>\n",
       "      <th>q8</th>\n",
       "      <td>0</td>\n",
       "      <td>0</td>\n",
       "      <td>0</td>\n",
       "      <td>0</td>\n",
       "      <td>0</td>\n",
       "      <td>1</td>\n",
       "      <td>-1</td>\n",
       "      <td>0</td>\n",
       "      <td>0</td>\n",
       "      <td>0</td>\n",
       "    </tr>\n",
       "    <tr>\n",
       "      <th>q9</th>\n",
       "      <td>0</td>\n",
       "      <td>0</td>\n",
       "      <td>0</td>\n",
       "      <td>0</td>\n",
       "      <td>0</td>\n",
       "      <td>0</td>\n",
       "      <td>1</td>\n",
       "      <td>0</td>\n",
       "      <td>0</td>\n",
       "      <td>-1</td>\n",
       "    </tr>\n",
       "    <tr>\n",
       "      <th>q10</th>\n",
       "      <td>0</td>\n",
       "      <td>0</td>\n",
       "      <td>0</td>\n",
       "      <td>0</td>\n",
       "      <td>0</td>\n",
       "      <td>1</td>\n",
       "      <td>0</td>\n",
       "      <td>0</td>\n",
       "      <td>0</td>\n",
       "      <td>-1</td>\n",
       "    </tr>\n",
       "    <tr>\n",
       "      <th>q11</th>\n",
       "      <td>0</td>\n",
       "      <td>0</td>\n",
       "      <td>0</td>\n",
       "      <td>0</td>\n",
       "      <td>-1</td>\n",
       "      <td>1</td>\n",
       "      <td>0</td>\n",
       "      <td>0</td>\n",
       "      <td>0</td>\n",
       "      <td>0</td>\n",
       "    </tr>\n",
       "    <tr>\n",
       "      <th>q12</th>\n",
       "      <td>0</td>\n",
       "      <td>0</td>\n",
       "      <td>0</td>\n",
       "      <td>0</td>\n",
       "      <td>0</td>\n",
       "      <td>0</td>\n",
       "      <td>0</td>\n",
       "      <td>0</td>\n",
       "      <td>1</td>\n",
       "      <td>-1</td>\n",
       "    </tr>\n",
       "    <tr>\n",
       "      <th>q13</th>\n",
       "      <td>0</td>\n",
       "      <td>0</td>\n",
       "      <td>0</td>\n",
       "      <td>0</td>\n",
       "      <td>0</td>\n",
       "      <td>0</td>\n",
       "      <td>0</td>\n",
       "      <td>0</td>\n",
       "      <td>0</td>\n",
       "      <td>1</td>\n",
       "    </tr>\n",
       "    <tr>\n",
       "      <th>q14</th>\n",
       "      <td>0</td>\n",
       "      <td>0</td>\n",
       "      <td>0</td>\n",
       "      <td>0</td>\n",
       "      <td>0</td>\n",
       "      <td>1</td>\n",
       "      <td>0</td>\n",
       "      <td>0</td>\n",
       "      <td>0</td>\n",
       "      <td>0</td>\n",
       "    </tr>\n",
       "    <tr>\n",
       "      <th>q15</th>\n",
       "      <td>0</td>\n",
       "      <td>0</td>\n",
       "      <td>0</td>\n",
       "      <td>0</td>\n",
       "      <td>0</td>\n",
       "      <td>1</td>\n",
       "      <td>0</td>\n",
       "      <td>0</td>\n",
       "      <td>0</td>\n",
       "      <td>0</td>\n",
       "    </tr>\n",
       "  </tbody>\n",
       "</table>\n",
       "</div>"
      ],
      "text/plain": [
       "     θ0  θ1  θ2  θ3  θ4  θ5  θ6  θ7  θ8  θ9\n",
       "q0    1   0   0   0   0   0   0   0   0   0\n",
       "q1   -1   1   0   0   0   0   0   0   0   0\n",
       "q2    0  -1   1   0   0   0   0   0   0   0\n",
       "q3    0   0  -1   1   0   0   0   0   0   0\n",
       "q4    0   0   0  -1   1   0   0   0   0   0\n",
       "q5    0   0   0   0  -1   0   1   0   0   0\n",
       "q6    0   0   0   0   0   0   1  -1   0   0\n",
       "q7    0   0   0   0   0   0   0   1   0   0\n",
       "q8    0   0   0   0   0   1  -1   0   0   0\n",
       "q9    0   0   0   0   0   0   1   0   0  -1\n",
       "q10   0   0   0   0   0   1   0   0   0  -1\n",
       "q11   0   0   0   0  -1   1   0   0   0   0\n",
       "q12   0   0   0   0   0   0   0   0   1  -1\n",
       "q13   0   0   0   0   0   0   0   0   0   1\n",
       "q14   0   0   0   0   0   1   0   0   0   0\n",
       "q15   0   0   0   0   0   1   0   0   0   0"
      ]
     },
     "execution_count": 692,
     "metadata": {},
     "output_type": "execute_result"
    }
   ],
   "source": [
    "A= np.array([\n",
    "    [ 1,  0,  0,  0,  0,  0,  0,  0,  0,  0],\n",
    "    [-1,  1,  0,  0,  0,  0,  0,  0,  0,  0],\n",
    "    [ 0, -1,  1,  0,  0,  0,  0,  0,  0,  0],\n",
    "    [ 0,  0, -1,  1,  0,  0,  0,  0,  0,  0],\n",
    "    [ 0,  0,  0, -1,  1,  0,  0,  0,  0,  0],\n",
    "    [ 0,  0,  0,  0, -1,  0,  1,  0,  0,  0],\n",
    "    [ 0,  0,  0,  0,  0,  0,  1, -1,  0,  0],\n",
    "    [ 0,  0,  0,  0,  0,  0,  0,  1,  0,  0],\n",
    "    [ 0,  0,  0,  0,  0,  1, -1,  0,  0,  0],\n",
    "    [ 0,  0,  0,  0,  0,  0,  1,  0,  0, -1],\n",
    "    [ 0,  0,  0,  0,  0,  1,  0,  0, 0,  -1],\n",
    "    [ 0,  0,  0,  0, -1,  1,  0,  0, 0,   0],\n",
    "    [ 0,  0,  0,  0,  0,  0,  0,  0,  1, -1],\n",
    "    [ 0,  0,  0,  0,  0,  0,  0,  0,  0,  1],\n",
    "    [ 0,  0,  0,  0,  0,  1,  0,  0,  0,  0],\n",
    "    [ 0,  0,  0,  0,  0,  1,  0,  0,  0,  0]\n",
    "])\n",
    "pd.DataFrame(A, index=q, columns=θ)"
   ]
  },
  {
   "cell_type": "markdown",
   "id": "e9e83dd0-2800-4ec4-92c1-dd31eee1a1c2",
   "metadata": {},
   "source": [
    "Then we can define the G matrix that corresponds to the conductances:"
   ]
  },
  {
   "cell_type": "code",
   "execution_count": 693,
   "id": "7e06aaff-abe2-4d6d-a22a-9f53d6b8ea92",
   "metadata": {},
   "outputs": [
    {
     "data": {
      "text/html": [
       "<div>\n",
       "<style scoped>\n",
       "    .dataframe tbody tr th:only-of-type {\n",
       "        vertical-align: middle;\n",
       "    }\n",
       "\n",
       "    .dataframe tbody tr th {\n",
       "        vertical-align: top;\n",
       "    }\n",
       "\n",
       "    .dataframe thead th {\n",
       "        text-align: right;\n",
       "    }\n",
       "</style>\n",
       "<table border=\"1\" class=\"dataframe\">\n",
       "  <thead>\n",
       "    <tr style=\"text-align: right;\">\n",
       "      <th></th>\n",
       "      <th>0</th>\n",
       "    </tr>\n",
       "  </thead>\n",
       "  <tbody>\n",
       "    <tr>\n",
       "      <th>q0</th>\n",
       "      <td>245.000000</td>\n",
       "    </tr>\n",
       "    <tr>\n",
       "      <th>q1</th>\n",
       "      <td>34.300000</td>\n",
       "    </tr>\n",
       "    <tr>\n",
       "      <th>q2</th>\n",
       "      <td>34.300000</td>\n",
       "    </tr>\n",
       "    <tr>\n",
       "      <th>q3</th>\n",
       "      <td>13.230000</td>\n",
       "    </tr>\n",
       "    <tr>\n",
       "      <th>q4</th>\n",
       "      <td>13.230000</td>\n",
       "    </tr>\n",
       "    <tr>\n",
       "      <th>q5</th>\n",
       "      <td>49.870641</td>\n",
       "    </tr>\n",
       "    <tr>\n",
       "      <th>q6</th>\n",
       "      <td>273.750000</td>\n",
       "    </tr>\n",
       "    <tr>\n",
       "      <th>q7</th>\n",
       "      <td>273.750000</td>\n",
       "    </tr>\n",
       "    <tr>\n",
       "      <th>q8</th>\n",
       "      <td>876.000000</td>\n",
       "    </tr>\n",
       "    <tr>\n",
       "      <th>q9</th>\n",
       "      <td>6.922885</td>\n",
       "    </tr>\n",
       "    <tr>\n",
       "      <th>q10</th>\n",
       "      <td>10.800000</td>\n",
       "    </tr>\n",
       "    <tr>\n",
       "      <th>q11</th>\n",
       "      <td>78.400000</td>\n",
       "    </tr>\n",
       "    <tr>\n",
       "      <th>q12</th>\n",
       "      <td>23.625000</td>\n",
       "    </tr>\n",
       "    <tr>\n",
       "      <th>q13</th>\n",
       "      <td>13.897059</td>\n",
       "    </tr>\n",
       "    <tr>\n",
       "      <th>q14</th>\n",
       "      <td>4.166667</td>\n",
       "    </tr>\n",
       "    <tr>\n",
       "      <th>q15</th>\n",
       "      <td>1.000000</td>\n",
       "    </tr>\n",
       "  </tbody>\n",
       "</table>\n",
       "</div>"
      ],
      "text/plain": [
       "              0\n",
       "q0   245.000000\n",
       "q1    34.300000\n",
       "q2    34.300000\n",
       "q3    13.230000\n",
       "q4    13.230000\n",
       "q5    49.870641\n",
       "q6   273.750000\n",
       "q7   273.750000\n",
       "q8   876.000000\n",
       "q9     6.922885\n",
       "q10   10.800000\n",
       "q11   78.400000\n",
       "q12   23.625000\n",
       "q13   13.897059\n",
       "q14    4.166667\n",
       "q15    1.000000"
      ]
     },
     "execution_count": 693,
     "metadata": {},
     "output_type": "execute_result"
    }
   ],
   "source": [
    "# conduction\n",
    "G_cd = wall['Conductivity'] / wall['Width'] * wall['Surface']\n",
    "pd.DataFrame(G_cd, columns=['Conductance'])\n",
    "\n",
    "# convection\n",
    "Gw_out = h * wall['Surface'].iloc[0]     # wall\n",
    "Gw_in = h * wall['Surface'].iloc[2]     # wall\n",
    "Gg = h * wall['Surface'].iloc[3]     # glass\n",
    "\n",
    "# view factor glass-wall\n",
    "Fgw = 1\n",
    "\n",
    "#Factor wall_out-wall_in\n",
    "\n",
    "Fwo_wi=1\n",
    "\n",
    "Tm = 20 + 273   # K, mean temp for radiative exchange\n",
    "\n",
    "#Long Wave radiation between glass and plasterboard wall\n",
    "GLW1_2 = 4 * σ * Tm**3 * ε_pLW / (1 - ε_pLW) * wall['Surface']['Plasterboard']\n",
    "GLW12_2 = 4 * σ * Tm**3 * Fgw * wall['Surface']['Glass']\n",
    "GLW2_2 = 4 * σ * Tm**3 * ε_gLW / (1 - ε_gLW) * wall['Surface']['Glass']\n",
    "GLW_2 = 1 / (1 / GLW1_2 + 1 / GLW12_2 + 1 / GLW2_2)\n",
    "\n",
    "#Long wave radiation between insulated wall and plasterboard wall\n",
    "GLW1_1 = 4 * σ * Tm**3 * ε_pLW / (1 - ε_pLW) * wall['Surface']['Plasterboard']\n",
    "GLW12_1 = 4 * σ * Tm**3 * Fwo_wi * wall['Surface']['Layer_in']\n",
    "GLW2_1 = 4 * σ * Tm**3 * ε_pLW / (1 - ε_pLW) * wall['Surface']['Layer_in']\n",
    "GLW_1 = 1 / (1 / GLW1_1 + 1 / GLW12_1 + 1 / GLW2_1)\n",
    "\n",
    "G0=Gw_out['out'].iloc[0]            #Convection between outside and concrete wall\n",
    "G1=G2=G_cd['Layer_out']/2    #conductions in the concrete wall\n",
    "G3=G4=G_cd['Layer_in']/2  #conduction in the insulator\n",
    "G5=GLW_1                    #Long Wave radiation between the wall (insulation) and the plasterboard wall\n",
    "G9=GLW_2                    #Long Wave radiation between the plasterboard wall and the glass\n",
    "G6=G7=G_cd['Plasterboard']/2 #Conduction in the plasterboard\n",
    "G8= Gw_in['in'].iloc[0]             #Convection from plasterboard\n",
    "G10=Gg['in'].iloc[0]               #Convection from glass\n",
    "G11=Gw_out['in'].iloc[0]           #Convection from the insulator\n",
    "G12=G_cd['Glass']/2         #Conduction in glass\n",
    "Gglass_conv=Gg['out'].iloc[0]       #Convection on the outside Window\n",
    "G13=G12*Gglass_conv/(G12+Gglass_conv) #conduction and convection in glass\n",
    "Va = l*L*H                  # m³, volume of air\n",
    "ACH = 0.1                   # 1/h, air changes per hour\n",
    "Va_dot = ACH / 3600 * Va    # m³/s, air infiltration\n",
    "\n",
    "G14= air['Density'] * air['Specific heat'] * Va_dot # Advection\n",
    "\n",
    "Glist=[G0,G1,G2,G3,G4,G5,G6,G7,G8,G9,G10,G11,G12,G13,G14,Kp]\n",
    "G = np.array(np.hstack(\n",
    "    [G0,G1,G2,G3,G4,G5,G6,G7,G8,G9,G10,G11,G12,G13,G14,Kp]))\n",
    "\n",
    "# np.set_printoptions(precision=3, threshold=16, suppress=True)\n",
    "# pd.set_option(\"display.precision\", 1)\n",
    "pd.DataFrame(G, index=q)"
   ]
  },
  {
   "cell_type": "markdown",
   "id": "fd05d676-74c7-4a6b-bdff-edffb8dc76cb",
   "metadata": {},
   "source": [
    "We also define the C matrix that represents the thermal capacities, the f matrix, whix corresponds to the fluxes and b that defines the initial temperatures"
   ]
  },
  {
   "cell_type": "code",
   "execution_count": 694,
   "id": "b34959ed",
   "metadata": {},
   "outputs": [],
   "source": [
    "Etot=500 #irradiance in W/m2\n",
    "Phi_glass=α_wSW*glass['Surface']*Etot\n",
    "Phi_concrete=α_wSW*concrete['Surface']*Etot"
   ]
  },
  {
   "cell_type": "code",
   "execution_count": 695,
   "id": "c2a25f02-c17c-4a57-a760-aa7240091eea",
   "metadata": {},
   "outputs": [
    {
     "data": {
      "text/plain": [
       "θ0    1225.00\n",
       "θ1       0.00\n",
       "θ2       0.00\n",
       "θ3       0.00\n",
       "θ4       0.00\n",
       "θ5     100.00\n",
       "θ6       0.00\n",
       "θ7       0.00\n",
       "θ8       0.00\n",
       "θ9     168.75\n",
       "dtype: float64"
      ]
     },
     "execution_count": 695,
     "metadata": {},
     "output_type": "execute_result"
    }
   ],
   "source": [
    "# Temperature source vector\n",
    "b = pd.Series([To, 0, 0, 0, 0, 0, 0, Ti, 0, 0, 0, 0, 0, To, Ti, Tiop],\n",
    "              index=q)\n",
    "f=np.zeros(10)\n",
    "Qa=100\n",
    "f[[0]]=Phi_concrete\n",
    "f[[5]]=Qa\n",
    "f[[9]]=Phi_glass\n",
    "f = pd.Series([Phi_concrete,0,0,0,0,Qa,0,0,0,Phi_glass],\n",
    "              index=θ)\n",
    "f"
   ]
  },
  {
   "cell_type": "code",
   "execution_count": 696,
   "id": "43043813",
   "metadata": {},
   "outputs": [
    {
     "data": {
      "text/html": [
       "<div>\n",
       "<style scoped>\n",
       "    .dataframe tbody tr th:only-of-type {\n",
       "        vertical-align: middle;\n",
       "    }\n",
       "\n",
       "    .dataframe tbody tr th {\n",
       "        vertical-align: top;\n",
       "    }\n",
       "\n",
       "    .dataframe thead th {\n",
       "        text-align: right;\n",
       "    }\n",
       "</style>\n",
       "<table border=\"1\" class=\"dataframe\">\n",
       "  <thead>\n",
       "    <tr style=\"text-align: right;\">\n",
       "      <th></th>\n",
       "      <th>0</th>\n",
       "    </tr>\n",
       "  </thead>\n",
       "  <tbody>\n",
       "    <tr>\n",
       "      <th>θ0</th>\n",
       "      <td>0.00</td>\n",
       "    </tr>\n",
       "    <tr>\n",
       "      <th>θ1</th>\n",
       "      <td>3967040.00</td>\n",
       "    </tr>\n",
       "    <tr>\n",
       "      <th>θ2</th>\n",
       "      <td>0.00</td>\n",
       "    </tr>\n",
       "    <tr>\n",
       "      <th>θ3</th>\n",
       "      <td>6521.90</td>\n",
       "    </tr>\n",
       "    <tr>\n",
       "      <th>θ4</th>\n",
       "      <td>0.00</td>\n",
       "    </tr>\n",
       "    <tr>\n",
       "      <th>θ5</th>\n",
       "      <td>150000.00</td>\n",
       "    </tr>\n",
       "    <tr>\n",
       "      <th>θ6</th>\n",
       "      <td>0.00</td>\n",
       "    </tr>\n",
       "    <tr>\n",
       "      <th>θ7</th>\n",
       "      <td>25458.75</td>\n",
       "    </tr>\n",
       "    <tr>\n",
       "      <th>θ8</th>\n",
       "      <td>0.00</td>\n",
       "    </tr>\n",
       "    <tr>\n",
       "      <th>θ9</th>\n",
       "      <td>25458.75</td>\n",
       "    </tr>\n",
       "  </tbody>\n",
       "</table>\n",
       "</div>"
      ],
      "text/plain": [
       "             0\n",
       "θ0        0.00\n",
       "θ1  3967040.00\n",
       "θ2        0.00\n",
       "θ3     6521.90\n",
       "θ4        0.00\n",
       "θ5   150000.00\n",
       "θ6        0.00\n",
       "θ7    25458.75\n",
       "θ8        0.00\n",
       "θ9    25458.75"
      ]
     },
     "execution_count": 696,
     "metadata": {},
     "output_type": "execute_result"
    }
   ],
   "source": [
    "# Air properties\n",
    "air_density = 1.2      # kg/m³\n",
    "air_cp = 1000          # J/(kg·K)\n",
    "air_volume = l * L * H # m³\n",
    "c_air = air_density * air_cp * air_volume\n",
    "\n",
    "# Thermal capacity function\n",
    "def thermal_capacity(material):\n",
    "    volume = material['Surface'] * material['Width']\n",
    "    return material['Density'] * material['Specific heat'] * volume\n",
    "\n",
    "# Compute thermal capacities\n",
    "c_concrete = thermal_capacity(concrete)\n",
    "c_insulation = thermal_capacity(insulation)\n",
    "c_plasterboard = thermal_capacity(plasterboard)\n",
    "c_glass = thermal_capacity(glass)\n",
    "\n",
    "# Assign to variables\n",
    "c1 = c_concrete\n",
    "c3 = c_insulation\n",
    "c5 = c_air\n",
    "c7 = c_plasterboard\n",
    "C10 = c_plasterboard\n",
    "\n",
    "# Diagonal matrix of thermal capacities with interleaved zeros\n",
    "C = np.array([0, c1, 0, c3, 0, c5, 0, c7, 0, C10])\n",
    "\n",
    "\n",
    "\n",
    "# pd.set_option(\"display.precision\", 3)\n",
    "pd.DataFrame(C, index=θ)"
   ]
  },
  {
   "cell_type": "markdown",
   "id": "608625c1",
   "metadata": {},
   "source": [
    "Output: Nodes of interest"
   ]
  },
  {
   "cell_type": "code",
   "execution_count": 697,
   "id": "c9c85fa6",
   "metadata": {},
   "outputs": [
    {
     "data": {
      "text/html": [
       "<div>\n",
       "<style scoped>\n",
       "    .dataframe tbody tr th:only-of-type {\n",
       "        vertical-align: middle;\n",
       "    }\n",
       "\n",
       "    .dataframe tbody tr th {\n",
       "        vertical-align: top;\n",
       "    }\n",
       "\n",
       "    .dataframe thead th {\n",
       "        text-align: right;\n",
       "    }\n",
       "</style>\n",
       "<table border=\"1\" class=\"dataframe\">\n",
       "  <thead>\n",
       "    <tr style=\"text-align: right;\">\n",
       "      <th></th>\n",
       "      <th>0</th>\n",
       "    </tr>\n",
       "  </thead>\n",
       "  <tbody>\n",
       "    <tr>\n",
       "      <th>0</th>\n",
       "      <td>0.0</td>\n",
       "    </tr>\n",
       "    <tr>\n",
       "      <th>1</th>\n",
       "      <td>0.0</td>\n",
       "    </tr>\n",
       "    <tr>\n",
       "      <th>2</th>\n",
       "      <td>0.0</td>\n",
       "    </tr>\n",
       "    <tr>\n",
       "      <th>3</th>\n",
       "      <td>0.0</td>\n",
       "    </tr>\n",
       "    <tr>\n",
       "      <th>4</th>\n",
       "      <td>0.0</td>\n",
       "    </tr>\n",
       "    <tr>\n",
       "      <th>5</th>\n",
       "      <td>1.0</td>\n",
       "    </tr>\n",
       "    <tr>\n",
       "      <th>6</th>\n",
       "      <td>0.0</td>\n",
       "    </tr>\n",
       "    <tr>\n",
       "      <th>7</th>\n",
       "      <td>0.0</td>\n",
       "    </tr>\n",
       "    <tr>\n",
       "      <th>8</th>\n",
       "      <td>0.0</td>\n",
       "    </tr>\n",
       "    <tr>\n",
       "      <th>9</th>\n",
       "      <td>0.0</td>\n",
       "    </tr>\n",
       "  </tbody>\n",
       "</table>\n",
       "</div>"
      ],
      "text/plain": [
       "     0\n",
       "0  0.0\n",
       "1  0.0\n",
       "2  0.0\n",
       "3  0.0\n",
       "4  0.0\n",
       "5  1.0\n",
       "6  0.0\n",
       "7  0.0\n",
       "8  0.0\n",
       "9  0.0"
      ]
     },
     "execution_count": 697,
     "metadata": {},
     "output_type": "execute_result"
    }
   ],
   "source": [
    "y = np.zeros(10)         # nodes\n",
    "y[[5]] = 1              # nodes (temperatures) of interest\n",
    "pd.DataFrame(y)"
   ]
  },
  {
   "cell_type": "markdown",
   "id": "0d691ca8",
   "metadata": {},
   "source": [
    "State Representation"
   ]
  },
  {
   "cell_type": "code",
   "execution_count": 698,
   "id": "1160c420",
   "metadata": {},
   "outputs": [
    {
     "name": "stdout",
     "output_type": "stream",
     "text": [
      "q0        5.00\n",
      "q7       18.00\n",
      "q13       5.00\n",
      "q14      18.00\n",
      "q15      22.00\n",
      "θ0     1225.00\n",
      "θ5      100.00\n",
      "θ9      168.75\n",
      "dtype: float64\n"
     ]
    }
   ],
   "source": [
    "# thermal circuit\n",
    "A = pd.DataFrame(A, index=q, columns=θ)\n",
    "G = pd.Series(G, index=q)\n",
    "C = pd.Series(C, index=θ)\n",
    "b = pd.Series(b, index=q)\n",
    "f = pd.Series(f, index=θ)\n",
    "y = pd.Series(y, index=θ)\n",
    "\n",
    "TC = {\"A\": A,\n",
    "      \"G\": G,\n",
    "      \"C\": C,\n",
    "      \"b\": b,\n",
    "      \"f\": f,\n",
    "      \"y\": y}\n",
    "\n",
    "[As, Bs, Cs, Ds, us] = dm4bem.tc2ss(TC)\n",
    "#print (As,'\\n', Bs,'\\n', Cs,'\\n', Ds,'\\n', us)\n",
    "print (us)\n"
   ]
  },
  {
   "cell_type": "markdown",
   "id": "00e1f293-e953-4b69-9fc9-5ffc814f9d67",
   "metadata": {},
   "source": [
    "We now have all the information to determine the steady state temperatures."
   ]
  },
  {
   "cell_type": "code",
   "execution_count": 699,
   "id": "79ae0cf9-8f6a-44f6-8df9-d602c77d88f8",
   "metadata": {},
   "outputs": [
    {
     "name": "stdout",
     "output_type": "stream",
     "text": [
      "θss = [10.16 11.27 12.38 15.26 18.14 18.47 18.39 18.19 17.87 17.87] °C\n"
     ]
    }
   ],
   "source": [
    "A = TC['A']\n",
    "G = TC['G']\n",
    "diag_G = pd.DataFrame(np.diag(G), index=G.index, columns=G.index)\n",
    "\n",
    "θss = np.linalg.inv(A.T @ diag_G @ A) @ (A.T @ diag_G @ b + f)\n",
    "print(f'θss = {np.around(θss, 2)} °C')"
   ]
  },
  {
   "cell_type": "markdown",
   "id": "5062945d",
   "metadata": {},
   "source": [
    "Steady State from Space representation"
   ]
  },
  {
   "cell_type": "code",
   "execution_count": 712,
   "id": "6e749eec",
   "metadata": {},
   "outputs": [
    {
     "name": "stdout",
     "output_type": "stream",
     "text": [
      "uss = [   5   18    5   22   18 1200   30  100]\n"
     ]
    }
   ],
   "source": [
    "\n",
    "bT = np.array([5, 18, 5, 22, 18])     # [To, To, To, Tisp]\n",
    "fQ = np.array([1200, 30, 100])         # [Φo, Qa, Φa]\n",
    "uss = np.hstack([bT, fQ])           # input vector for state space\n",
    "print(f'uss = {uss}')"
   ]
  },
  {
   "cell_type": "code",
   "execution_count": 713,
   "id": "cc592405",
   "metadata": {},
   "outputs": [
    {
     "name": "stdout",
     "output_type": "stream",
     "text": [
      "yss = 17.77 °C\n"
     ]
    }
   ],
   "source": [
    "inv_As = pd.DataFrame(np.linalg.inv(As),\n",
    "                      columns=As.index, index=As.index)\n",
    "yss = (-Cs @ inv_As @ Bs + Ds) @ uss\n",
    "\n",
    "yss = float(yss.values[0])\n",
    "print(f'yss = {yss:.2f} °C')"
   ]
  },
  {
   "cell_type": "markdown",
   "id": "1d67b394",
   "metadata": {},
   "source": [
    "Eigenvalues Analysis"
   ]
  },
  {
   "cell_type": "code",
   "execution_count": 714,
   "id": "013b3153",
   "metadata": {},
   "outputs": [],
   "source": [
    "# Eigenvalues analysis\n",
    "λ = np.linalg.eig(As)[0]        # eigenvalues of matrix As"
   ]
  },
  {
   "cell_type": "markdown",
   "id": "0bbc735f",
   "metadata": {},
   "source": [
    "Time step"
   ]
  },
  {
   "cell_type": "code",
   "execution_count": 715,
   "id": "7d37a4e1",
   "metadata": {},
   "outputs": [
    {
     "name": "stdout",
     "output_type": "stream",
     "text": [
      "Δtmax = 101 s = 1.7 min\n",
      "dt = 60 s\n"
     ]
    }
   ],
   "source": [
    "# time step\n",
    "Δtmax = 2 * min(-1. / λ)    # max time step for stability of Euler explicit\n",
    "dm4bem.print_rounded_time('Δtmax', Δtmax)\n",
    "\n",
    "if imposed_time_step:\n",
    "    dt = Δt\n",
    "else:\n",
    "    dt = dm4bem.round_time(Δtmax)\n",
    "dm4bem.print_rounded_time('dt', dt)"
   ]
  },
  {
   "cell_type": "markdown",
   "id": "7176cbb7",
   "metadata": {},
   "source": [
    "Settling time and duration"
   ]
  },
  {
   "cell_type": "code",
   "execution_count": 716,
   "id": "0531c358",
   "metadata": {},
   "outputs": [
    {
     "name": "stdout",
     "output_type": "stream",
     "text": [
      "t_settle = 450821 s = 125.2 h\n"
     ]
    }
   ],
   "source": [
    "# settling time\n",
    "t_settle = 4 * max(-1 / λ)\n",
    "dm4bem.print_rounded_time('t_settle', t_settle)"
   ]
  },
  {
   "cell_type": "code",
   "execution_count": 717,
   "id": "8a1540fd",
   "metadata": {},
   "outputs": [
    {
     "name": "stdout",
     "output_type": "stream",
     "text": [
      "duration = 453600 s = 126.0 h\n"
     ]
    }
   ],
   "source": [
    "# duration: next multiple of 3600 s that is larger than t_settle\n",
    "duration = np.ceil(t_settle / 3600) * 3600\n",
    "dm4bem.print_rounded_time('duration', duration)\n",
    "us['q0']='To'\n",
    "us['q7']='Ti'\n",
    "us['q13']='To'\n",
    "us['q14']='Ti'\n",
    "us['q15']='Tiop'\n",
    "us['θ0']='Phi_concrete'\n",
    "us['θ5']='Qa'\n",
    "us['θ9']='Phi_glass'\n",
    "duration=duration"
   ]
  },
  {
   "cell_type": "markdown",
   "id": "7fc879c9",
   "metadata": {},
   "source": [
    "Step response to outdoor temperature"
   ]
  },
  {
   "cell_type": "markdown",
   "id": "1206f6b4",
   "metadata": {},
   "source": [
    "    Effect of the weater"
   ]
  },
  {
   "cell_type": "code",
   "execution_count": 718,
   "id": "3e539e41",
   "metadata": {},
   "outputs": [
    {
     "name": "stdout",
     "output_type": "stream",
     "text": [
      "n= 7560\n"
     ]
    }
   ],
   "source": [
    "# Create input_data_set\n",
    "# ---------------------\n",
    "# time vector\n",
    "n = int(np.floor(duration / dt))    # number of time steps\n",
    "print('n=',n)\n",
    "# DateTimeIndex starting at \"00:00:00\" with a time step of dt\n",
    "time = pd.date_range(start=\"2000-06-01 00:00:00\",\n",
    "                           periods=n, freq=f\"{int(dt)}s\")\n"
   ]
  },
  {
   "cell_type": "code",
   "execution_count": 719,
   "id": "227bc89e",
   "metadata": {},
   "outputs": [
    {
     "name": "stderr",
     "output_type": "stream",
     "text": [
      "C:\\Users\\PC\\AppData\\Local\\Temp\\ipykernel_8180\\1820791356.py:27: FutureWarning: Series.__getitem__ treating keys as positions is deprecated. In a future version, integer keys will always be treated as labels (consistent with DataFrame behavior). To access a value by position, use `ser.iloc[pos]`\n",
      "  To=[weather_data.asof(time[k])[0]for k in range(n)]\n",
      "C:\\Users\\PC\\AppData\\Local\\Temp\\ipykernel_8180\\1820791356.py:39: FutureWarning: Series.__getitem__ treating keys as positions is deprecated. In a future version, integer keys will always be treated as labels (consistent with DataFrame behavior). To access a value by position, use `ser.iloc[pos]`\n",
      "  dir_rad=weather_data.asof(time[k])[1]\n",
      "C:\\Users\\PC\\AppData\\Local\\Temp\\ipykernel_8180\\1820791356.py:40: FutureWarning: Series.__getitem__ treating keys as positions is deprecated. In a future version, integer keys will always be treated as labels (consistent with DataFrame behavior). To access a value by position, use `ser.iloc[pos]`\n",
      "  dif_rad=weather_data.asof(time[k])[2]\n"
     ]
    }
   ],
   "source": [
    "from dm4bem import read_epw, sol_rad_tilt_surf\n",
    "filename = '../weather_data/FRA_Lyon.074810_IWEC.epw'\n",
    "[data, meta] = read_epw(filename, coerce_year=None)\n",
    "# Extract the month and year from the DataFrame index with the format 'MM-YYYY'\n",
    "month_year = data.index.strftime('%m-%Y')\n",
    "\n",
    "# Create a set of unique month-year combinations\n",
    "unique_month_years = sorted(set(month_year))\n",
    "\n",
    "# Create a DataFrame from the unique month-year combinations\n",
    "pd.DataFrame(unique_month_years, columns=['Month-Year'])\n",
    "# select columns of interest\n",
    "weather_data = data[[\"temp_air\", \"dir_n_rad\", \"dif_h_rad\"]]\n",
    "\n",
    "# replace year with 2000 in the index \n",
    "weather_data.index = weather_data.index.map(\n",
    "    lambda t: t.replace(year=2000))\n",
    "# Define start and end dates\n",
    "start_date = '1999-01-01 12:00'\n",
    "end_date = '2000-07-02'         # time is 00:00 if not indicated\n",
    "\n",
    "# Filter the data based on the start and end dates\n",
    "weather_data = weather_data.loc[start_date:end_date]\n",
    "del data\n",
    "\n",
    "weather_data.index = weather_data.index.tz_convert(None)\n",
    "To=[weather_data.asof(time[k])[0]for k in range(n)]\n",
    "β = 90  #slope: straight wall\n",
    "γ = 90 #azimuth: oriented to the south\n",
    "ϕ = 45  #latitude: France\n",
    "# Transform degrees in radians\n",
    "β = β * np.pi / 180\n",
    "γ = γ * np.pi / 180\n",
    "ϕ = ϕ * np.pi / 180\n",
    "Dir_Rad=[]\n",
    "Dif_Rad=[]\n",
    "Rad_Tot=[]\n",
    "for k in range (n):\n",
    "    dir_rad=weather_data.asof(time[k])[1]\n",
    "    dif_rad=weather_data.asof(time[k])[2]\n",
    "    d=time[k].dayofyear\n",
    "    declination_angle = 23.45 * np.sin(360 * (284 + n) / 365 * np.pi / 180)\n",
    "    δ = declination_angle * np.pi / 180\n",
    "    hour = time[k].hour\n",
    "    minute = time[k].minute + 60\n",
    "    hour_angle = 15 * ((hour + minute / 60) - 12)   # deg\n",
    "    ω = hour_angle * np.pi / 180                    # rad\n",
    "    theta = np.sin(δ) * np.sin(ϕ) * np.cos(β) \\\n",
    "    - np.sin(δ) * np.cos(ϕ) * np.sin(β) * np.cos(γ) \\\n",
    "    + np.cos(δ) * np.cos(ϕ) * np.cos(β) * np.cos(ω) \\\n",
    "    + np.cos(δ) * np.sin(ϕ) * np.sin(β) * np.cos(γ) * np.cos(ω) \\\n",
    "    + np.cos(δ) * np.sin(β) * np.sin(γ) * np.sin(ω)\n",
    "\n",
    "    theta = np.array(np.arccos(theta))\n",
    "    theta = np.minimum(theta, np.pi / 2)\n",
    "    Dir_Rad.append(dir_rad*np.cos(theta))\n",
    "    Dif_Rad.append(dif_rad* (1 + np.cos(β)) / 2)\n",
    "    Rad_Tot.append(dir_rad*np.cos(theta)+dif_rad* (1 + np.cos(β)) / 2)\n",
    "#To=[weather_data.loc[time[k]] for k in range (n)]"
   ]
  },
  {
   "cell_type": "code",
   "execution_count": 720,
   "id": "c8792723",
   "metadata": {},
   "outputs": [
    {
     "data": {
      "image/png": "[encoded data removed]",
      "text/plain": [
       "<Figure size 640x480 with 1 Axes>"
      ]
     },
     "metadata": {},
     "output_type": "display_data"
    }
   ],
   "source": [
    "\n",
    "#To = 5 * np.ones(n)        # outdoor temperature\n",
    "plt.plot(time,To)\n",
    "plt.plot(time,Dif_Rad)\n",
    "plt.plot(time,Dir_Rad)\n",
    "plt.show()\n",
    "Rad_Tot = np.array(Rad_Tot)\n",
    "Phi_glass=α_wSW*glass['Surface']*(Rad_Tot)\n",
    "Phi_concrete=α_wSW*concrete['Surface']*(Rad_Tot)\n",
    "Tiop = 22 * np.ones(n)\n",
    "Ti = 18 * np.ones(n)    # indoor temperature set point\n",
    "Phi_concrete = 1225.00 * np.ones(n)         # solar radiation absorbed by the glass\n",
    "Qa = 200.00* np.ones(n)\n",
    "Phi_glass= 168.75* np.ones(n)           # auxiliary heat sources and solar radiation\n",
    "\n",
    "data = {'To': To, 'Tiop': Tiop,'Ti':Ti, 'Phi_concrete': Phi_concrete, 'Qa': Qa, 'Phi_glass': Phi_glass}\n",
    "input_data_set = pd.DataFrame(data, index=time)\n",
    "# inputs in time from input_data_set\n",
    "u = dm4bem.inputs_in_time(us, input_data_set)"
   ]
  },
  {
   "cell_type": "code",
   "execution_count": 721,
   "id": "ce81090a",
   "metadata": {},
   "outputs": [],
   "source": [
    "# Initial conditions\n",
    "θ_exp = pd.DataFrame(index=u.index)     # empty df with index for explicit Euler\n",
    "θ_imp = pd.DataFrame(index=u.index)     # empty df with index for implicit Euler\n",
    "\n",
    "θ0 = 0.0                    # initial temperatures\n",
    "θ_exp[As.columns] = θ0      # fill θ for Euler explicit with initial values θ0\n",
    "θ_imp[As.columns] = θ0      # fill θ for Euler implicit with initial values θ0\n",
    "\n",
    "I = np.eye(As.shape[0])     # identity matrix\n",
    "for k in range(u.shape[0] - 1):\n",
    "    θ_exp.iloc[k + 1] = (I + dt * As)\\\n",
    "        @ θ_exp.iloc[k] + dt * Bs @ u.iloc[k]\n",
    "    θ_imp.iloc[k + 1] = np.linalg.inv(I - dt * As)\\\n",
    "        @ (θ_imp.iloc[k] + dt * Bs @ u.iloc[k])"
   ]
  },
  {
   "cell_type": "code",
   "execution_count": 722,
   "id": "2dfa4b62",
   "metadata": {},
   "outputs": [],
   "source": [
    "# outputs\n",
    "y_exp = (Cs @ θ_exp.T + Ds @  u.T).T\n",
    "y_imp = (Cs @ θ_imp.T + Ds @  u.T).T"
   ]
  },
  {
   "cell_type": "code",
   "execution_count": 723,
   "id": "aebcc109",
   "metadata": {},
   "outputs": [
    {
     "data": {
      "image/png": "[encoded data removed]",
      "text/plain": [
       "<Figure size 640x480 with 1 Axes>"
      ]
     },
     "metadata": {},
     "output_type": "display_data"
    }
   ],
   "source": [
    "# plot results\n",
    "y = pd.concat([y_exp, y_imp], axis=1, keys=['Explicit', 'Implicit'])\n",
    "# Flatten the two-level column labels into a single level\n",
    "y.columns = y.columns.get_level_values(0)\n",
    "\n",
    "ax = y.plot()\n",
    "ax.set_xlabel('Time')\n",
    "ax.set_ylabel('Indoor temperature, $\\\\theta_i$ / °C')\n",
    "ax.set_title(f'Time step: $dt$ = {dt:.0f} s; $dt_{{max}}$ = {Δtmax:.0f} s')\n",
    "plt.show()"
   ]
  }
 ],
 "metadata": {
  "kernelspec": {
   "display_name": "Python 3",
   "language": "python",
   "name": "python3"
  },
  "language_info": {
   "codemirror_mode": {
    "name": "ipython",
    "version": 3
   },
   "file_extension": ".py",
   "mimetype": "text/x-python",
   "name": "python",
   "nbconvert_exporter": "python",
   "pygments_lexer": "ipython3",
   "version": "3.11.9"
  }
 },
 "nbformat": 4,
 "nbformat_minor": 5
}
